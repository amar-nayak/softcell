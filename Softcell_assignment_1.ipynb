{
 "cells": [
  {
   "cell_type": "code",
   "execution_count": 1,
   "metadata": {
    "collapsed": false
   },
   "outputs": [
    {
     "name": "stderr",
     "output_type": "stream",
     "text": [
      "C:\\Users\\Amar\\Anaconda3\\lib\\site-packages\\IPython\\core\\interactiveshell.py:2717: DtypeWarning: Columns (31) have mixed types. Specify dtype option on import or set low_memory=False.\n",
      "  interactivity=interactivity, compiler=compiler, result=result)\n"
     ]
    }
   ],
   "source": [
    "# Seting up the working directory\n",
    "\n",
    "import pandas as pd\n",
    "import numpy as np\n",
    "import os\n",
    "os.chdir(\"C:/specdata/softcell\")\n",
    "train_data= pd.read_csv(\"GoNoGo_TRAINING_DATA.csv\")\n",
    "test_data= pd.read_csv(\"GoNoGo_TEST_DATA.csv\")"
   ]
  },
  {
   "cell_type": "code",
   "execution_count": 2,
   "metadata": {
    "collapsed": false
   },
   "outputs": [
    {
     "name": "stdout",
     "output_type": "stream",
     "text": [
      "(7759, 46)\n",
      "(19189, 46)\n",
      "Index(['APPLICATION_ID', 'DSA_ID', 'DEALER_ID', 'APP_DATE', 'TIME_STAMP',\n",
      "       'APPLICATION_STATUS', 'QUEUE_ID', 'CURRENT_STAGE', 'MARITAL_STATUS',\n",
      "       'GENDER', 'AGE', 'EDUCATION', 'RESIDENCE_TYPE', 'CITY', 'STATE',\n",
      "       'ZIP_CODE', 'EMPLOY_CONSTITUTION', 'NET_TAKE_HOME_SALARY', 'PAN_STATUS',\n",
      "       'CIBIL_SCORE', 'APPLICATION_SCORE', 'RESIDENTIAL_ADDRESS_SCORE',\n",
      "       'OFFICE_ADDRESS_SCORE', 'NAME_SCORE', 'APPROVED_AMOUNT', 'ASSET_MAKE',\n",
      "       'ASSET_CTG', 'APPLIED_AMOUNT', 'LOAN_TENOR', 'LOAN_TYPE',\n",
      "       'DEDUPE_REF_ID1', 'CAR_CATEGORY', 'OWN_HOUSE_TYPE',\n",
      "       'HOUSE_SURROGATE_DOCUMENT_TYPE', 'TRADER_YEAR_IN_BUSINESS',\n",
      "       'TRADER_BUSINESS_PROOF', 'CREDIT_CARD_NUMBER', 'CREDIT_CARDS_CATEGORY',\n",
      "       'PRIMARY_ASSET_CTG', 'PRIMARY_ASSET_MAKE', 'PRIMARY_ASSET_MODELNO',\n",
      "       'VOTER_ID', 'DRIVING_LICENSE', 'AADHAAR', 'PAN', 'BANK_PASSBOOK'],\n",
      "      dtype='object')\n",
      "Index(['APPLICATION_ID', 'DSA_ID', 'DEALER_ID', 'APP_DATE', 'TIME_STAMP',\n",
      "       'APPLICATION_STATUS', 'QUEUE_ID', 'CURRENT_STAGE', 'MARITAL_STATUS',\n",
      "       'GENDER', 'AGE', 'EDUCATION', 'RESIDENCE_TYPE', 'CITY', 'STATE',\n",
      "       'ZIP_CODE', 'EMPLOY_CONSTITUTION', 'NET_TAKE_HOME_SALARY', 'PAN_STATUS',\n",
      "       'CIBIL_SCORE', 'APPLICATION_SCORE', 'RESIDENTIAL_ADDRESS_SCORE',\n",
      "       'OFFICE_ADDRESS_SCORE', 'NAME_SCORE', 'APPROVED_AMOUNT', 'ASSET_MAKE',\n",
      "       'ASSET_CTG', 'APPLIED_AMOUNT', 'LOAN_TENOR', 'LOAN_TYPE',\n",
      "       'DEDUPE_REF_ID1', 'CAR_CATEGORY', 'OWN_HOUSE_TYPE',\n",
      "       'HOUSE_SURROGATE_DOCUMENT_TYPE', 'TRADER_YEAR_IN_BUSINESS',\n",
      "       'TRADER_BUSINESS_PROOF', 'CREDIT_CARD_NUMBER', 'CREDIT_CARDS_CATEGORY',\n",
      "       'PRIMARY_ASSET_CTG', 'PRIMARY_ASSET_MAKE', 'PRIMARY_ASSET_MODELNO',\n",
      "       'VOTER_ID', 'DRIVING_LICENSE', 'AADHAAR', 'PAN', 'BANK_PASSBOOK'],\n",
      "      dtype='object')\n"
     ]
    }
   ],
   "source": [
    "print(train_data.shape)\n",
    "print(test_data.shape)\n",
    "print(train_data.columns)\n",
    "print(test_data.columns)"
   ]
  },
  {
   "cell_type": "markdown",
   "metadata": {},
   "source": [
    "# Data Preprocessing"
   ]
  },
  {
   "cell_type": "code",
   "execution_count": 3,
   "metadata": {
    "collapsed": true
   },
   "outputs": [],
   "source": [
    "#Training and test dataset are combined together for preprocessing\n",
    "\n",
    "frames = [train_data, test_data]\n",
    "data_pp = pd.concat(frames)"
   ]
  },
  {
   "cell_type": "code",
   "execution_count": 4,
   "metadata": {
    "collapsed": false
   },
   "outputs": [
    {
     "name": "stdout",
     "output_type": "stream",
     "text": [
      "(26948, 46)\n",
      "APPLICATION_ID                       0\n",
      "DSA_ID                               0\n",
      "DEALER_ID                            0\n",
      "APP_DATE                             0\n",
      "TIME_STAMP                           0\n",
      "APPLICATION_STATUS               19189\n",
      "QUEUE_ID                             0\n",
      "CURRENT_STAGE                        0\n",
      "MARITAL_STATUS                       1\n",
      "GENDER                               0\n",
      "AGE                                  0\n",
      "EDUCATION                            1\n",
      "RESIDENCE_TYPE                       0\n",
      "CITY                                 1\n",
      "STATE                                1\n",
      "ZIP_CODE                             0\n",
      "EMPLOY_CONSTITUTION                  1\n",
      "NET_TAKE_HOME_SALARY             24686\n",
      "PAN_STATUS                        1300\n",
      "CIBIL_SCORE                         52\n",
      "APPLICATION_SCORE                  555\n",
      "RESIDENTIAL_ADDRESS_SCORE         6024\n",
      "OFFICE_ADDRESS_SCORE              6023\n",
      "NAME_SCORE                       16592\n",
      "APPROVED_AMOUNT                  14620\n",
      "ASSET_MAKE                       14620\n",
      "ASSET_CTG                        14620\n",
      "APPLIED_AMOUNT                       0\n",
      "LOAN_TENOR                           0\n",
      "LOAN_TYPE                            0\n",
      "DEDUPE_REF_ID1                   25972\n",
      "CAR_CATEGORY                     26937\n",
      "OWN_HOUSE_TYPE                   13956\n",
      "HOUSE_SURROGATE_DOCUMENT_TYPE    13956\n",
      "TRADER_YEAR_IN_BUSINESS          26670\n",
      "TRADER_BUSINESS_PROOF            26670\n",
      "CREDIT_CARD_NUMBER               25812\n",
      "CREDIT_CARDS_CATEGORY            25812\n",
      "PRIMARY_ASSET_CTG                    0\n",
      "PRIMARY_ASSET_MAKE                   0\n",
      "PRIMARY_ASSET_MODELNO                0\n",
      "VOTER_ID                             0\n",
      "DRIVING_LICENSE                      0\n",
      "AADHAAR                              0\n",
      "PAN                                  0\n",
      "BANK_PASSBOOK                        0\n",
      "dtype: int64\n"
     ]
    }
   ],
   "source": [
    "print(data_pp.shape)\n",
    "\n",
    "# Check for missing values\n",
    "print(data_pp.isnull().sum())"
   ]
  },
  {
   "cell_type": "code",
   "execution_count": 5,
   "metadata": {
    "collapsed": true
   },
   "outputs": [],
   "source": [
    "#Those columns where more than 80% of the data are missing, are dropped\n",
    "\n",
    "data_pp = data_pp.drop(['NET_TAKE_HOME_SALARY','DEDUPE_REF_ID1','CAR_CATEGORY','TRADER_YEAR_IN_BUSINESS','TRADER_BUSINESS_PROOF',\n",
    "                  'CREDIT_CARD_NUMBER', 'CREDIT_CARDS_CATEGORY'], 1)"
   ]
  },
  {
   "cell_type": "code",
   "execution_count": 6,
   "metadata": {
    "collapsed": true
   },
   "outputs": [],
   "source": [
    "# Check for some value counts"
   ]
  },
  {
   "cell_type": "code",
   "execution_count": 7,
   "metadata": {
    "collapsed": false
   },
   "outputs": [
    {
     "data": {
      "text/plain": [
       "GRADUATE          14899\n",
       "UNDER GRADUATE     6094\n",
       "OTHERS             4383\n",
       "POST-GRADUATE      1454\n",
       "PROFESSIONAL         83\n",
       "DOCTORATE            34\n",
       "Name: EDUCATION, dtype: int64"
      ]
     },
     "execution_count": 7,
     "metadata": {},
     "output_type": "execute_result"
    }
   ],
   "source": [
    "data_pp['EDUCATION'].value_counts()"
   ]
  },
  {
   "cell_type": "code",
   "execution_count": 8,
   "metadata": {
    "collapsed": false
   },
   "outputs": [
    {
     "data": {
      "text/plain": [
       "HYDERABAD               2804\n",
       "CHENNAI                 2316\n",
       "AHMEDABAD               1434\n",
       "KOLKATTA                1229\n",
       "COIMBATORE              1177\n",
       "BHOPAL                  1176\n",
       "MADURAI                  875\n",
       "INDORE                   838\n",
       "BANGALORE                771\n",
       "VIJAYAWADA               737\n",
       "DELHI                    731\n",
       "VISAKHAPATNAM            582\n",
       "VADODARA                 564\n",
       "PONDICHERRY              534\n",
       "SALEM                    454\n",
       "TRICHY                   418\n",
       "SILIGURI                 370\n",
       "SURAT                    361\n",
       "JAMNAGAR                 348\n",
       "PUNE                     334\n",
       "GUNTUR                   326\n",
       "JABALPUR                 323\n",
       "RAJKOT                   317\n",
       "TIRUNELVELI              276\n",
       "UJJAIN                   269\n",
       "MYSORE                   255\n",
       "RAIPUR                   249\n",
       "TIRUPATHI                243\n",
       "RATHLAM                  233\n",
       "DURG.                    184\n",
       "                        ... \n",
       "UDAYAMARTHANDAM            1\n",
       "SEHORE                     1\n",
       "FINGAPARA                  1\n",
       "THIRUVARAMBU               1\n",
       "KENDRA                     1\n",
       "RANAGHAT HO                1\n",
       "SOUTH BISHNUPUR            1\n",
       "MADHYAM GRAM BAZAR         1\n",
       "MEDAK                      1\n",
       "TALOJAAUDOGIEVASAHAT       1\n",
       "BOHAR                      1\n",
       "KHANAPARA                  1\n",
       "SHAHAPUR - THANE           1\n",
       "NADIA                      1\n",
       "KARUNGULAM                 1\n",
       "SANTIPUR                   1\n",
       "KURINJIPADI                1\n",
       "PADALAM                    1\n",
       "HALISAHAR                  1\n",
       "BULANDSHAHAR               1\n",
       "REFDA                      1\n",
       "MAYNAGURI                  1\n",
       "GARIFA                     1\n",
       "SANDESAR                   1\n",
       "ATHUR-CPT                  1\n",
       "SARAWALI                   1\n",
       "HATPIPLIYA                 1\n",
       "RUHSACAMPUS                1\n",
       "CHENGAPALLI                1\n",
       "BARADHEMO                  1\n",
       "Name: CITY, dtype: int64"
      ]
     },
     "execution_count": 8,
     "metadata": {},
     "output_type": "execute_result"
    }
   ],
   "source": [
    "data_pp['CITY'].value_counts()"
   ]
  },
  {
   "cell_type": "code",
   "execution_count": 9,
   "metadata": {
    "collapsed": false
   },
   "outputs": [
    {
     "data": {
      "text/plain": [
       "SELF-EMPLOYED              14627\n",
       "SALARIED                   12202\n",
       "PRIVATE LIMITED COMPANY       52\n",
       "PARTNERSHIP                   44\n",
       "TRUST                         22\n",
       "Name: EMPLOY_CONSTITUTION, dtype: int64"
      ]
     },
     "execution_count": 9,
     "metadata": {},
     "output_type": "execute_result"
    }
   ],
   "source": [
    "data_pp['EMPLOY_CONSTITUTION'].value_counts()"
   ]
  },
  {
   "cell_type": "code",
   "execution_count": 10,
   "metadata": {
    "collapsed": false
   },
   "outputs": [
    {
     "data": {
      "text/plain": [
       "TAMIL NADU        8594\n",
       "GUJARAT           3938\n",
       "MADHYA PRADESH    3125\n",
       "TELANGANA         2804\n",
       "WEST BENGAL       2597\n",
       "ANDHRA PRADESH    2265\n",
       "KARNATAKA         1086\n",
       "MAHARASHTRA        866\n",
       "DELHI              771\n",
       "CHHATTISGARH       637\n",
       "ASSAM              114\n",
       "UTTAR PRADESH       66\n",
       "HARYANA             51\n",
       "BIHAR               33\n",
       "Name: STATE, dtype: int64"
      ]
     },
     "execution_count": 10,
     "metadata": {},
     "output_type": "execute_result"
    }
   ],
   "source": [
    "data_pp['STATE'].value_counts()"
   ]
  },
  {
   "cell_type": "code",
   "execution_count": 11,
   "metadata": {
    "collapsed": false
   },
   "outputs": [
    {
     "data": {
      "text/plain": [
       "Married    21479\n",
       "Single      5468\n",
       "Name: MARITAL_STATUS, dtype: int64"
      ]
     },
     "execution_count": 11,
     "metadata": {},
     "output_type": "execute_result"
    }
   ],
   "source": [
    "data_pp['MARITAL_STATUS'].value_counts()"
   ]
  },
  {
   "cell_type": "code",
   "execution_count": 12,
   "metadata": {
    "collapsed": false
   },
   "outputs": [],
   "source": [
    "# Data imputation\n",
    "\n",
    "#Median \n",
    "data_pp['RESIDENTIAL_ADDRESS_SCORE']=data_pp['RESIDENTIAL_ADDRESS_SCORE'].fillna(data_pp.RESIDENTIAL_ADDRESS_SCORE.median())\n",
    "data_pp['OFFICE_ADDRESS_SCORE']=data_pp['OFFICE_ADDRESS_SCORE'].fillna(data_pp.OFFICE_ADDRESS_SCORE.median())\n",
    "data_pp['NAME_SCORE']=data_pp['NAME_SCORE'].fillna(data_pp.NAME_SCORE.median())\n",
    "\n",
    "# Mean\n",
    "data_pp['APPROVED_AMOUNT']=data_pp['APPROVED_AMOUNT'].fillna(data_pp.APPROVED_AMOUNT.mean())\n",
    "\n",
    "# Mode is used for categorical variables\n",
    "data_pp['ASSET_MAKE']=data_pp['ASSET_MAKE'].fillna('LG')\n",
    "data_pp['ASSET_CTG']=data_pp['ASSET_CTG'].fillna('PANEL - LED')\n",
    "data_pp['OWN_HOUSE_TYPE']=data_pp['OWN_HOUSE_TYPE'].fillna('Parent Owned')\n",
    "data_pp['HOUSE_SURROGATE_DOCUMENT_TYPE']=data_pp['HOUSE_SURROGATE_DOCUMENT_TYPE'].fillna('Utility Bill ')\n",
    "data_pp['PAN_STATUS']=data_pp['PAN_STATUS'].fillna('Pan Not Submitted')\n",
    "\n",
    "data_pp['APPLICATION_SCORE'].replace(to_replace=['RENGANATHAN MOHAN ', '-'], value=[np.NaN, np.NaN], inplace=True)\n",
    "data_pp['APPLICATION_SCORE']=data_pp['APPLICATION_SCORE'].fillna(45)\n",
    "data_pp['APPLICATION_SCORE']= pd.to_numeric(data_pp['APPLICATION_SCORE'])\n",
    "\n",
    "data_pp['CIBIL_SCORE'].replace(to_replace=['0', '', '000-1', '-'], value=[np.NaN, np.NaN, np.NaN, np.NaN ], inplace=True)\n",
    "data_pp['CIBIL_SCORE']=(data_pp['CIBIL_SCORE'].fillna(691))\n",
    "data_pp['CIBIL_SCORE']= pd.to_numeric(data_pp['CIBIL_SCORE'])\n",
    "\n",
    "data_pp['EDUCATION']=data_pp['EDUCATION'].fillna('GRADUATE') \n",
    "data_pp['CITY']=data_pp['CITY'].fillna('HYDERABAD') \n",
    "data_pp['STATE']=data_pp['STATE'].fillna('TAMIL NADU') \n",
    "data_pp['EMPLOY_CONSTITUTION']=data_pp['EMPLOY_CONSTITUTION'].fillna('SELF-EMPLOYED') \n",
    "data_pp['MARITAL_STATUS']=data_pp['MARITAL_STATUS'].fillna('Married')\n",
    "data_pp['APPLICATION_STATUS']=data_pp['APPLICATION_STATUS'].fillna('NaN')\n"
   ]
  },
  {
   "cell_type": "code",
   "execution_count": 13,
   "metadata": {
    "collapsed": false
   },
   "outputs": [
    {
     "name": "stdout",
     "output_type": "stream",
     "text": [
      "APPLICATION_ID                   0\n",
      "DSA_ID                           0\n",
      "DEALER_ID                        0\n",
      "APP_DATE                         0\n",
      "TIME_STAMP                       0\n",
      "APPLICATION_STATUS               0\n",
      "QUEUE_ID                         0\n",
      "CURRENT_STAGE                    0\n",
      "MARITAL_STATUS                   0\n",
      "GENDER                           0\n",
      "AGE                              0\n",
      "EDUCATION                        0\n",
      "RESIDENCE_TYPE                   0\n",
      "CITY                             0\n",
      "STATE                            0\n",
      "ZIP_CODE                         0\n",
      "EMPLOY_CONSTITUTION              0\n",
      "PAN_STATUS                       0\n",
      "CIBIL_SCORE                      0\n",
      "APPLICATION_SCORE                0\n",
      "RESIDENTIAL_ADDRESS_SCORE        0\n",
      "OFFICE_ADDRESS_SCORE             0\n",
      "NAME_SCORE                       0\n",
      "APPROVED_AMOUNT                  0\n",
      "ASSET_MAKE                       0\n",
      "ASSET_CTG                        0\n",
      "APPLIED_AMOUNT                   0\n",
      "LOAN_TENOR                       0\n",
      "LOAN_TYPE                        0\n",
      "OWN_HOUSE_TYPE                   0\n",
      "HOUSE_SURROGATE_DOCUMENT_TYPE    0\n",
      "PRIMARY_ASSET_CTG                0\n",
      "PRIMARY_ASSET_MAKE               0\n",
      "PRIMARY_ASSET_MODELNO            0\n",
      "VOTER_ID                         0\n",
      "DRIVING_LICENSE                  0\n",
      "AADHAAR                          0\n",
      "PAN                              0\n",
      "BANK_PASSBOOK                    0\n",
      "dtype: int64\n"
     ]
    }
   ],
   "source": [
    "#Check for missing data again\n",
    "\n",
    "print(data_pp.isnull().sum())"
   ]
  },
  {
   "cell_type": "markdown",
   "metadata": {},
   "source": [
    "# Assignment 1"
   ]
  },
  {
   "cell_type": "code",
   "execution_count": 14,
   "metadata": {
    "collapsed": false
   },
   "outputs": [
    {
     "data": {
      "text/html": [
       "<iframe id=\"igraph\" scrolling=\"no\" style=\"border:none;\" seamless=\"seamless\" src=\"https://plot.ly/~amar.nayak/106.embed\" height=\"525px\" width=\"100%\"></iframe>"
      ],
      "text/plain": [
       "<plotly.tools.PlotlyDisplay object>"
      ]
     },
     "execution_count": 14,
     "metadata": {},
     "output_type": "execute_result"
    }
   ],
   "source": [
    "# Explolatory data analysis. This graph is generic. Similar grapgh can be plotted by changing the values for Histogram\n",
    "\n",
    "import plotly.graph_objs as go\n",
    "import plotly.plotly as py\n",
    "\n",
    "cibil_data = [go.Histogram(x=data_pp['APPLIED_AMOUNT'])]\n",
    "\n",
    "py.iplot(cibil_data, filename='APPLIED_AMOUNT DISTRIBUTION GRAPH')"
   ]
  },
  {
   "cell_type": "code",
   "execution_count": 15,
   "metadata": {
    "collapsed": false
   },
   "outputs": [
    {
     "data": {
      "text/html": [
       "<iframe id=\"igraph\" scrolling=\"no\" style=\"border:none;\" seamless=\"seamless\" src=\"https://plot.ly/~amar.nayak/104.embed\" height=\"525px\" width=\"100%\"></iframe>"
      ],
      "text/plain": [
       "<plotly.tools.PlotlyDisplay object>"
      ]
     },
     "execution_count": 15,
     "metadata": {},
     "output_type": "execute_result"
    }
   ],
   "source": [
    "import plotly.graph_objs as go\n",
    "import plotly.plotly as py\n",
    "\n",
    "asset_data = [go.Histogram(x=data_pp['ASSET_CTG'])]\n",
    "\n",
    "py.iplot(asset_data, filename='ASSET_CTG DISTRIBUTION GRAPH')"
   ]
  },
  {
   "cell_type": "code",
   "execution_count": 16,
   "metadata": {
    "collapsed": false
   },
   "outputs": [],
   "source": [
    "# Create training and test dataset for Straight Through Process. \n",
    "\n",
    "train= data_pp[(data_pp.QUEUE_ID=='Straight  Through Process') & (data_pp.APPLICATION_STATUS!= 'NaN')].reset_index()\n",
    "test= data_pp[(data_pp.QUEUE_ID=='Straight  Through Process') & (data_pp.APPLICATION_STATUS =='NaN')].reset_index()"
   ]
  },
  {
   "cell_type": "code",
   "execution_count": 17,
   "metadata": {
    "collapsed": false
   },
   "outputs": [],
   "source": [
    "#These dataset can be exported by activating this command\n",
    "#train.to_csv(\"train.csv\")\n",
    "#test.to_csv(\"test.csv\")"
   ]
  },
  {
   "cell_type": "code",
   "execution_count": 18,
   "metadata": {
    "collapsed": false
   },
   "outputs": [
    {
     "name": "stdout",
     "output_type": "stream",
     "text": [
      "Index(['index', 'APPLICATION_ID', 'DSA_ID', 'DEALER_ID', 'APP_DATE',\n",
      "       'TIME_STAMP', 'APPLICATION_STATUS', 'QUEUE_ID', 'CURRENT_STAGE',\n",
      "       'MARITAL_STATUS', 'GENDER', 'AGE', 'EDUCATION', 'RESIDENCE_TYPE',\n",
      "       'CITY', 'STATE', 'ZIP_CODE', 'EMPLOY_CONSTITUTION', 'PAN_STATUS',\n",
      "       'CIBIL_SCORE', 'APPLICATION_SCORE', 'RESIDENTIAL_ADDRESS_SCORE',\n",
      "       'OFFICE_ADDRESS_SCORE', 'NAME_SCORE', 'APPROVED_AMOUNT', 'ASSET_MAKE',\n",
      "       'ASSET_CTG', 'APPLIED_AMOUNT', 'LOAN_TENOR', 'LOAN_TYPE',\n",
      "       'OWN_HOUSE_TYPE', 'HOUSE_SURROGATE_DOCUMENT_TYPE', 'PRIMARY_ASSET_CTG',\n",
      "       'PRIMARY_ASSET_MAKE', 'PRIMARY_ASSET_MODELNO', 'VOTER_ID',\n",
      "       'DRIVING_LICENSE', 'AADHAAR', 'PAN', 'BANK_PASSBOOK'],\n",
      "      dtype='object')\n",
      "Index(['index', 'APPLICATION_ID', 'DSA_ID', 'DEALER_ID', 'APP_DATE',\n",
      "       'TIME_STAMP', 'APPLICATION_STATUS', 'QUEUE_ID', 'CURRENT_STAGE',\n",
      "       'MARITAL_STATUS', 'GENDER', 'AGE', 'EDUCATION', 'RESIDENCE_TYPE',\n",
      "       'CITY', 'STATE', 'ZIP_CODE', 'EMPLOY_CONSTITUTION', 'PAN_STATUS',\n",
      "       'CIBIL_SCORE', 'APPLICATION_SCORE', 'RESIDENTIAL_ADDRESS_SCORE',\n",
      "       'OFFICE_ADDRESS_SCORE', 'NAME_SCORE', 'APPROVED_AMOUNT', 'ASSET_MAKE',\n",
      "       'ASSET_CTG', 'APPLIED_AMOUNT', 'LOAN_TENOR', 'LOAN_TYPE',\n",
      "       'OWN_HOUSE_TYPE', 'HOUSE_SURROGATE_DOCUMENT_TYPE', 'PRIMARY_ASSET_CTG',\n",
      "       'PRIMARY_ASSET_MAKE', 'PRIMARY_ASSET_MODELNO', 'VOTER_ID',\n",
      "       'DRIVING_LICENSE', 'AADHAAR', 'PAN', 'BANK_PASSBOOK'],\n",
      "      dtype='object')\n"
     ]
    }
   ],
   "source": [
    "#Check for similarity of the dataset\n",
    "\n",
    "print(train.columns)\n",
    "print(test.columns)"
   ]
  },
  {
   "cell_type": "code",
   "execution_count": 19,
   "metadata": {
    "collapsed": true
   },
   "outputs": [],
   "source": [
    "# Drop irrelevant columns from the dataset\n",
    "\n",
    "train_X= train[['APPLICATION_ID', 'DSA_ID', 'DEALER_ID', 'APP_DATE', 'TIME_STAMP',\n",
    "       'CURRENT_STAGE', 'MARITAL_STATUS',\n",
    "       'GENDER', 'AGE', 'EDUCATION', 'RESIDENCE_TYPE', 'CITY', 'STATE',\n",
    "       'ZIP_CODE', 'EMPLOY_CONSTITUTION', 'PAN_STATUS', 'CIBIL_SCORE',\n",
    "       'APPLICATION_SCORE', 'RESIDENTIAL_ADDRESS_SCORE',\n",
    "       'OFFICE_ADDRESS_SCORE', 'NAME_SCORE', 'APPROVED_AMOUNT', 'ASSET_MAKE',\n",
    "       'ASSET_CTG', 'APPLIED_AMOUNT', 'LOAN_TENOR', 'LOAN_TYPE',\n",
    "       'OWN_HOUSE_TYPE', 'HOUSE_SURROGATE_DOCUMENT_TYPE', 'PRIMARY_ASSET_CTG',\n",
    "       'PRIMARY_ASSET_MAKE', 'PRIMARY_ASSET_MODELNO', 'VOTER_ID',\n",
    "       'DRIVING_LICENSE', 'AADHAAR', 'PAN', 'BANK_PASSBOOK']]\n",
    "\n",
    "train_Y = pd.DataFrame(train['APPLICATION_STATUS'])\n",
    "\n",
    "test_X= test[['APPLICATION_ID', 'DSA_ID', 'DEALER_ID', 'APP_DATE', 'TIME_STAMP',\n",
    "       'CURRENT_STAGE', 'MARITAL_STATUS',\n",
    "       'GENDER', 'AGE', 'EDUCATION', 'RESIDENCE_TYPE', 'CITY', 'STATE',\n",
    "       'ZIP_CODE', 'EMPLOY_CONSTITUTION', 'PAN_STATUS', 'CIBIL_SCORE',\n",
    "       'APPLICATION_SCORE', 'RESIDENTIAL_ADDRESS_SCORE',\n",
    "       'OFFICE_ADDRESS_SCORE', 'NAME_SCORE', 'APPROVED_AMOUNT', 'ASSET_MAKE',\n",
    "       'ASSET_CTG', 'APPLIED_AMOUNT', 'LOAN_TENOR', 'LOAN_TYPE',\n",
    "       'OWN_HOUSE_TYPE', 'HOUSE_SURROGATE_DOCUMENT_TYPE', 'PRIMARY_ASSET_CTG',\n",
    "       'PRIMARY_ASSET_MAKE', 'PRIMARY_ASSET_MODELNO', 'VOTER_ID',\n",
    "       'DRIVING_LICENSE', 'AADHAAR', 'PAN', 'BANK_PASSBOOK']]"
   ]
  },
  {
   "cell_type": "code",
   "execution_count": 20,
   "metadata": {
    "collapsed": false
   },
   "outputs": [
    {
     "data": {
      "text/html": [
       "<div>\n",
       "<table border=\"1\" class=\"dataframe\">\n",
       "  <thead>\n",
       "    <tr style=\"text-align: right;\">\n",
       "      <th></th>\n",
       "      <th>APPLICATION_STATUS</th>\n",
       "    </tr>\n",
       "  </thead>\n",
       "  <tbody>\n",
       "    <tr>\n",
       "      <th>0</th>\n",
       "      <td>Declined</td>\n",
       "    </tr>\n",
       "    <tr>\n",
       "      <th>1</th>\n",
       "      <td>Approved</td>\n",
       "    </tr>\n",
       "    <tr>\n",
       "      <th>2</th>\n",
       "      <td>Approved</td>\n",
       "    </tr>\n",
       "    <tr>\n",
       "      <th>3</th>\n",
       "      <td>Approved</td>\n",
       "    </tr>\n",
       "    <tr>\n",
       "      <th>4</th>\n",
       "      <td>Declined</td>\n",
       "    </tr>\n",
       "  </tbody>\n",
       "</table>\n",
       "</div>"
      ],
      "text/plain": [
       "  APPLICATION_STATUS\n",
       "0           Declined\n",
       "1           Approved\n",
       "2           Approved\n",
       "3           Approved\n",
       "4           Declined"
      ]
     },
     "execution_count": 20,
     "metadata": {},
     "output_type": "execute_result"
    }
   ],
   "source": [
    "train_Y.head()"
   ]
  },
  {
   "cell_type": "code",
   "execution_count": 23,
   "metadata": {
    "collapsed": false
   },
   "outputs": [],
   "source": [
    "#Encoding the categorical variable\n",
    "\n",
    "from sklearn import preprocessing\n",
    "from sklearn.preprocessing import LabelEncoder\n",
    "train_X= train_X.apply(LabelEncoder().fit_transform)\n",
    "train_Y= train_Y.apply(LabelEncoder().fit_transform)\n",
    "test_X= test_X.apply(LabelEncoder().fit_transform)"
   ]
  },
  {
   "cell_type": "code",
   "execution_count": 24,
   "metadata": {
    "collapsed": false
   },
   "outputs": [
    {
     "data": {
      "image/png": "[encoded data removed]",
      "text/plain": [
       "<matplotlib.figure.Figure at 0x1c783b28160>"
      ]
     },
     "metadata": {},
     "output_type": "display_data"
    }
   ],
   "source": [
    "# Transforming high dimension data into 2D data to analyse the scatter\n",
    "\n",
    "from sklearn.manifold import TSNE\n",
    "model = TSNE(n_components=2, random_state=0)\n",
    "np.set_printoptions(suppress=True)\n",
    "tsne = model.fit_transform(train_X) \n",
    "\n",
    "tsne_x = tsne[:, 0]\n",
    "tsne_y = tsne[:, 1]\n",
    "\n",
    "from matplotlib import pyplot as plt\n",
    "plt.scatter(tsne_x, tsne_y, c=train_Y['APPLICATION_STATUS'], cmap=plt.cm.get_cmap(\"jet\", 10))\n",
    "plt.colorbar(ticks=range(10))\n",
    "plt.clim()\n",
    "plt.show()\n",
    "\n",
    "#There are atleat 4 different cluster within the group (Visual Inspection). There are no outliers"
   ]
  },
  {
   "cell_type": "code",
   "execution_count": 25,
   "metadata": {
    "collapsed": false
   },
   "outputs": [
    {
     "name": "stdout",
     "output_type": "stream",
     "text": [
      "Cross Validation accuracy score:  [ 0.99628253  0.99628253  1.          0.99814126  0.99255121  0.99441341\n",
      "  1.          1.          1.          0.99626866]\n",
      "Cross Validation precision score:  [ 0.99473684  1.          1.          1.          0.9947644   0.99479167\n",
      "  1.          1.          1.          1.        ]\n",
      "Cross Validation recall score:  [ 0.99479167  0.98958333  1.          0.99479167  0.99479167  0.99479167\n",
      "  1.          1.          1.          0.9947644 ]\n",
      "Average accuracy score is:  0.997393959467\n",
      "Average precision score is:  0.998429290668\n",
      "Average recall score is:  0.996351439791\n"
     ]
    }
   ],
   "source": [
    "#Random Forest to predict the 'Application status' for 'Straigh Through Process'\n",
    "\n",
    "from sklearn.ensemble import RandomForestClassifier\n",
    "from sklearn.model_selection import cross_val_score\n",
    "\n",
    "RF1 = RandomForestClassifier(n_estimators=40,criterion='entropy',)\n",
    "RF1.fit(train_X, train_Y['APPLICATION_STATUS'])\n",
    "\n",
    "# Evaluation metrics \n",
    "# Accuracy, Precision and Recall calculated with 10 fold cross validation.\n",
    "\n",
    "scores_RF1 = cross_val_score(RF1, train_X, train_Y['APPLICATION_STATUS'], cv=10)\n",
    "scores_precision1 = cross_val_score(RF1, train_X, train_Y['APPLICATION_STATUS'], cv=10, scoring='precision')\n",
    "scores_recall1 = cross_val_score(RF1, train_X, train_Y['APPLICATION_STATUS'], cv=10, scoring='recall')\n",
    "\n",
    "# Predict the Application Status for the test set and store it in Dataframe test_X\n",
    "test_X['Application Status']= RF1.predict(test_X)\n",
    "\n",
    "print('Cross Validation accuracy score: ', scores_RF1)\n",
    "print('Cross Validation precision score: ',scores_precision1)\n",
    "print('Cross Validation recall score: ', scores_recall1)\n",
    "print('Average accuracy score is: ',scores_RF1.mean())\n",
    "print('Average precision score is: ',scores_precision1.mean())\n",
    "print('Average recall score is: ',scores_recall1.mean())\n"
   ]
  },
  {
   "cell_type": "code",
   "execution_count": 26,
   "metadata": {
    "collapsed": false
   },
   "outputs": [],
   "source": [
    "#Export test dataset \n",
    "\n",
    "test_X.to_csv(\"test_X.csv\")\n"
   ]
  },
  {
   "cell_type": "markdown",
   "metadata": {},
   "source": [
    "# Assignment 2: Prediction for underwriters"
   ]
  },
  {
   "cell_type": "code",
   "execution_count": 27,
   "metadata": {
    "collapsed": true
   },
   "outputs": [],
   "source": [
    "#Create train and test dataset\n",
    "\n",
    "train2= data_pp[(data_pp.QUEUE_ID=='Under.Writer') & (data_pp.APPLICATION_STATUS!= 'NaN')].reset_index()\n",
    "test2= data_pp[(data_pp.QUEUE_ID=='Under.Writer') & (data_pp.APPLICATION_STATUS =='NaN')].reset_index()"
   ]
  },
  {
   "cell_type": "code",
   "execution_count": 28,
   "metadata": {
    "collapsed": true
   },
   "outputs": [],
   "source": [
    "train2_X= train2[['APPLICATION_ID', 'DSA_ID', 'DEALER_ID', 'APP_DATE', 'TIME_STAMP',\n",
    "       'CURRENT_STAGE', 'MARITAL_STATUS',\n",
    "       'GENDER', 'AGE', 'EDUCATION', 'RESIDENCE_TYPE', 'CITY', 'STATE',\n",
    "       'ZIP_CODE', 'EMPLOY_CONSTITUTION', 'PAN_STATUS', 'CIBIL_SCORE',\n",
    "       'APPLICATION_SCORE', 'RESIDENTIAL_ADDRESS_SCORE',\n",
    "       'OFFICE_ADDRESS_SCORE', 'NAME_SCORE', 'APPROVED_AMOUNT', 'ASSET_MAKE',\n",
    "       'ASSET_CTG', 'APPLIED_AMOUNT', 'LOAN_TENOR', 'LOAN_TYPE',\n",
    "       'OWN_HOUSE_TYPE', 'HOUSE_SURROGATE_DOCUMENT_TYPE', 'PRIMARY_ASSET_CTG',\n",
    "       'PRIMARY_ASSET_MAKE', 'PRIMARY_ASSET_MODELNO', 'VOTER_ID',\n",
    "       'DRIVING_LICENSE', 'AADHAAR', 'PAN', 'BANK_PASSBOOK']]\n",
    "\n",
    "train2_Y = pd.DataFrame(train2['APPLICATION_STATUS'])\n",
    "\n",
    "test2_X= test2[['APPLICATION_ID', 'DSA_ID', 'DEALER_ID', 'APP_DATE', 'TIME_STAMP',\n",
    "       'CURRENT_STAGE', 'MARITAL_STATUS',\n",
    "       'GENDER', 'AGE', 'EDUCATION', 'RESIDENCE_TYPE', 'CITY', 'STATE',\n",
    "       'ZIP_CODE', 'EMPLOY_CONSTITUTION', 'PAN_STATUS', 'CIBIL_SCORE',\n",
    "       'APPLICATION_SCORE', 'RESIDENTIAL_ADDRESS_SCORE',\n",
    "       'OFFICE_ADDRESS_SCORE', 'NAME_SCORE', 'APPROVED_AMOUNT', 'ASSET_MAKE',\n",
    "       'ASSET_CTG', 'APPLIED_AMOUNT', 'LOAN_TENOR', 'LOAN_TYPE',\n",
    "       'OWN_HOUSE_TYPE', 'HOUSE_SURROGATE_DOCUMENT_TYPE', 'PRIMARY_ASSET_CTG',\n",
    "       'PRIMARY_ASSET_MAKE', 'PRIMARY_ASSET_MODELNO', 'VOTER_ID',\n",
    "       'DRIVING_LICENSE', 'AADHAAR', 'PAN', 'BANK_PASSBOOK']]"
   ]
  },
  {
   "cell_type": "code",
   "execution_count": 29,
   "metadata": {
    "collapsed": true
   },
   "outputs": [],
   "source": [
    "#Encoding the categorical variable\n",
    "\n",
    "from sklearn import preprocessing\n",
    "from sklearn.preprocessing import LabelEncoder\n",
    "train2_X= train2_X.apply(LabelEncoder().fit_transform)\n",
    "train2_Y= train2_Y.apply(LabelEncoder().fit_transform)\n",
    "test2_X= test2_X.apply(LabelEncoder().fit_transform)"
   ]
  },
  {
   "cell_type": "code",
   "execution_count": 30,
   "metadata": {
    "collapsed": false
   },
   "outputs": [
    {
     "name": "stdout",
     "output_type": "stream",
     "text": [
      "Cross Validation accuracy score:  [ 1.          1.          1.          1.          0.99579832  0.99579832\n",
      "  1.          1.          1.          1.        ]\n",
      "Cross Validation precision score:  [ 1.         1.         1.         1.         0.9929078  0.9929078  1.         1.\n",
      "  1.         1.       ]\n",
      "Cross Validation recall score:  [ 1.  1.  1.  1.  1.  1.  1.  1.  1.  1.]\n",
      "Average accuracy score is:  0.999159663866\n",
      "Average precision score is:  0.998581560284\n",
      "Average recall score is:  1.0\n"
     ]
    }
   ],
   "source": [
    "# Random Forest to predict the 'Application status' for 'Under writer Process'\n",
    "# Naive Bayes was the second best algorithm, which predicted the label with 87% accuracy\n",
    "# Other algorith tested were KNN and SVM. They did not perform well\n",
    "\n",
    "from sklearn.ensemble import RandomForestClassifier\n",
    "from sklearn.model_selection import cross_val_score\n",
    "\n",
    "RF2 = RandomForestClassifier(n_estimators=40,criterion='entropy',)\n",
    "RF2.fit(train2_X, train2_Y['APPLICATION_STATUS'])\n",
    "\n",
    "# Evaluation metrics \n",
    "# Accuracy, Precision and Recall calculated with 10 fold cross validation.\n",
    "\n",
    "scores_RF2 = cross_val_score(RF2, train2_X, train2_Y['APPLICATION_STATUS'], cv=10)\n",
    "scores_precision2 = cross_val_score(RF2, train2_X, train2_Y['APPLICATION_STATUS'], cv=10, scoring='precision')\n",
    "scores_recall2 = cross_val_score(RF2, train2_X, train2_Y['APPLICATION_STATUS'], cv=10, scoring='recall')\n",
    "\n",
    "# Predict the Application Status for the test set and store it in Dataframe test_X\n",
    "test2_X['Application Status']= RF2.predict(test2_X)\n",
    "\n",
    "# Print the Random forest results\n",
    "\n",
    "print('Cross Validation accuracy score: ', scores_RF2)\n",
    "print('Cross Validation precision score: ',scores_precision2)\n",
    "print('Cross Validation recall score: ', scores_recall2)\n",
    "print('Average accuracy score is: ',scores_RF2.mean())\n",
    "print('Average precision score is: ',scores_precision2.mean())\n",
    "print('Average recall score is: ',scores_recall2.mean())"
   ]
  },
  {
   "cell_type": "code",
   "execution_count": 31,
   "metadata": {
    "collapsed": true
   },
   "outputs": [],
   "source": [
    "test2_X.to_csv(\"test2_X.csv\")"
   ]
  },
  {
   "cell_type": "code",
   "execution_count": 32,
   "metadata": {
    "collapsed": false
   },
   "outputs": [
    {
     "data": {
      "image/png": "[encoded data removed]",
      "text/plain": [
       "<matplotlib.figure.Figure at 0x1c78240a860>"
      ]
     },
     "metadata": {},
     "output_type": "display_data"
    },
    {
     "name": "stdout",
     "output_type": "stream",
     "text": [
      "Features importance in decreasing order:  [16  5 21 23 17 22 19 24  8 30 18 29 13 31 28  0 10  1  2  4 11 12 20  3 27\n",
      "  9 15 25  6 35 14  7 34 32 33 36 26]\n",
      "CIBIL_SCORE\n",
      "CURRENT_STAGE\n",
      "APPROVED_AMOUNT\n",
      "ASSET_CTG\n",
      "APPLICATION_SCORE\n",
      "ASSET_MAKE\n",
      "OFFICE_ADDRESS_SCORE\n",
      "APPLIED_AMOUNT\n",
      "AGE\n",
      "PRIMARY_ASSET_MAKE\n",
      "RESIDENTIAL_ADDRESS_SCORE\n",
      "PRIMARY_ASSET_CTG\n",
      "ZIP_CODE\n",
      "PRIMARY_ASSET_MODELNO\n",
      "HOUSE_SURROGATE_DOCUMENT_TYPE\n",
      "APPLICATION_ID\n",
      "RESIDENCE_TYPE\n",
      "DSA_ID\n",
      "DEALER_ID\n",
      "TIME_STAMP\n",
      "CITY\n",
      "STATE\n",
      "NAME_SCORE\n",
      "APP_DATE\n",
      "OWN_HOUSE_TYPE\n",
      "EDUCATION\n",
      "PAN_STATUS\n",
      "LOAN_TENOR\n",
      "MARITAL_STATUS\n",
      "PAN\n",
      "EMPLOY_CONSTITUTION\n",
      "GENDER\n",
      "AADHAAR\n",
      "VOTER_ID\n",
      "DRIVING_LICENSE\n",
      "BANK_PASSBOOK\n",
      "LOAN_TYPE\n"
     ]
    }
   ],
   "source": [
    "# There are 46 different features which were used in the Random Forest prediction. \n",
    "# The following block will determin the level of influence of different features for 'Straight Through Process'\n",
    "\n",
    "importances1 = RF1.feature_importances_\n",
    "std1 = np.std([tree1.feature_importances_ for tree1 in RF1.estimators_],\n",
    "             axis=0)\n",
    "indices1 = np.argsort(importances1)[::-1]\n",
    "\n",
    "# Plot a bar chart to represent the influence of different features\n",
    "plt.figure(figsize=(16, 10))\n",
    "plt.title(\"Feature importances\")\n",
    "plt.bar(range(train_X.shape[1]), importances1[indices1],\n",
    "       color=\"r\", yerr=std1[indices1], align=\"center\")\n",
    "plt.xticks(range(train_X.shape[1]), indices1)\n",
    "plt.xlim([-1, train_X.shape[1]])\n",
    "plt.show()\n",
    "print('Features importance in decreasing order: ', indices1)\n",
    "\n",
    "#Print the features in descending order\n",
    "\n",
    "for features in range(len(indices1)):\n",
    "    print(train_X.columns[indices1[features]])"
   ]
  },
  {
   "cell_type": "code",
   "execution_count": 33,
   "metadata": {
    "collapsed": false
   },
   "outputs": [
    {
     "data": {
      "image/png": "[encoded data removed]",
      "text/plain": [
       "<matplotlib.figure.Figure at 0x1c785ed9a20>"
      ]
     },
     "metadata": {},
     "output_type": "display_data"
    },
    {
     "name": "stdout",
     "output_type": "stream",
     "text": [
      "Features importance in decreasing order:  [ 5 21 23 22 30  4 17 24 31 16 29  2  0 13 19 18  1 10 11  8  3 20 12 28 25\n",
      "  9 15 27  7 14  6 33 32 35 34 36 26]\n",
      "CURRENT_STAGE\n",
      "APPROVED_AMOUNT\n",
      "ASSET_CTG\n",
      "ASSET_MAKE\n",
      "PRIMARY_ASSET_MAKE\n",
      "TIME_STAMP\n",
      "APPLICATION_SCORE\n",
      "APPLIED_AMOUNT\n",
      "PRIMARY_ASSET_MODELNO\n",
      "CIBIL_SCORE\n",
      "PRIMARY_ASSET_CTG\n",
      "DEALER_ID\n",
      "APPLICATION_ID\n",
      "ZIP_CODE\n",
      "OFFICE_ADDRESS_SCORE\n",
      "RESIDENTIAL_ADDRESS_SCORE\n",
      "DSA_ID\n",
      "RESIDENCE_TYPE\n",
      "CITY\n",
      "AGE\n",
      "APP_DATE\n",
      "NAME_SCORE\n",
      "STATE\n",
      "HOUSE_SURROGATE_DOCUMENT_TYPE\n",
      "LOAN_TENOR\n",
      "EDUCATION\n",
      "PAN_STATUS\n",
      "OWN_HOUSE_TYPE\n",
      "GENDER\n",
      "EMPLOY_CONSTITUTION\n",
      "MARITAL_STATUS\n",
      "DRIVING_LICENSE\n",
      "VOTER_ID\n",
      "PAN\n",
      "AADHAAR\n",
      "BANK_PASSBOOK\n",
      "LOAN_TYPE\n"
     ]
    }
   ],
   "source": [
    "# There are 46 different features which were used in the Random Forest prediction. \n",
    "# The following block will determin the level of influence of different features for 'Under writer Process'\n",
    "\n",
    "importances2 = RF2.feature_importances_\n",
    "std2 = np.std([tree2.feature_importances_ for tree2 in RF2.estimators_],\n",
    "             axis=0)\n",
    "indices2 = np.argsort(importances2)[::-1]\n",
    "\n",
    "# Plot a bar chart to represent the influence of different features\n",
    "plt.figure(figsize=(16, 10))\n",
    "plt.title(\"Feature importances\")\n",
    "plt.bar(range(train2_X.shape[1]), importances2[indices2],\n",
    "       color=\"r\", yerr=std2[indices2], align=\"center\")\n",
    "plt.xticks(range(train2_X.shape[1]), indices2)\n",
    "plt.xlim([-1, train2_X.shape[1]])\n",
    "plt.show()\n",
    "print('Features importance in decreasing order: ', indices2)\n",
    "\n",
    "#Print the features in descending order\n",
    "\n",
    "for features in range(len(indices2)):\n",
    "    print(train_X.columns[indices2[features]])"
   ]
  },
  {
   "cell_type": "code",
   "execution_count": 34,
   "metadata": {
    "collapsed": false
   },
   "outputs": [
    {
     "data": {
      "text/html": [
       "<iframe id=\"igraph\" scrolling=\"no\" style=\"border:none;\" seamless=\"seamless\" src=\"https://plot.ly/~amar.nayak/108.embed\" height=\"525px\" width=\"100%\"></iframe>"
      ],
      "text/plain": [
       "<plotly.tools.PlotlyDisplay object>"
      ]
     },
     "execution_count": 34,
     "metadata": {},
     "output_type": "execute_result"
    }
   ],
   "source": [
    "# CIBIL score is one of the key determinant of the Application status. \n",
    "import plotly.plotly as py\n",
    "import plotly.graph_objs as go\n",
    "\n",
    "# Create a trace\n",
    "trace = go.Scatter(\n",
    "    x = train_X['CIBIL_SCORE'],\n",
    "    y = train_Y['APPLICATION_STATUS'],\n",
    "    mode = 'markers'\n",
    ")\n",
    "\n",
    "data = [trace]\n",
    "\n",
    "# Plot and embed in ipython notebook!\n",
    "py.iplot(data, filename='CIBIL')"
   ]
  },
  {
   "cell_type": "code",
   "execution_count": 35,
   "metadata": {
    "collapsed": true
   },
   "outputs": [],
   "source": [
    "# The CIBIL score below 210 is always rejected"
   ]
  },
  {
   "cell_type": "code",
   "execution_count": 36,
   "metadata": {
    "collapsed": false
   },
   "outputs": [
    {
     "data": {
      "text/html": [
       "<iframe id=\"igraph\" scrolling=\"no\" style=\"border:none;\" seamless=\"seamless\" src=\"https://plot.ly/~amar.nayak/110.embed\" height=\"525px\" width=\"100%\"></iframe>"
      ],
      "text/plain": [
       "<plotly.tools.PlotlyDisplay object>"
      ]
     },
     "execution_count": 36,
     "metadata": {},
     "output_type": "execute_result"
    }
   ],
   "source": [
    "# Check whether there is any relationship between age and Application status\n",
    "\n",
    "trace1 = go.Scatter(\n",
    "    x = train_X['AGE'],\n",
    "    y = train_X['CIBIL_SCORE'],\n",
    "    mode = 'markers'\n",
    ")\n",
    "\n",
    "data1 = [trace1]\n",
    "\n",
    "# Plot and embed in ipython notebook!\n",
    "py.iplot(data1, filename='AGE Vs Application Status')\n"
   ]
  },
  {
   "cell_type": "code",
   "execution_count": 37,
   "metadata": {
    "collapsed": true
   },
   "outputs": [],
   "source": [
    "#The relation between 'age' and the 'application status' is very fuzzy"
   ]
  },
  {
   "cell_type": "code",
   "execution_count": 38,
   "metadata": {
    "collapsed": false
   },
   "outputs": [],
   "source": [
    "#Statewise study of appplication status\n",
    "\n",
    "state_a= train.loc[train.APPLICATION_STATUS=='Approved',:]\n",
    "state_d= train.loc[train.APPLICATION_STATUS=='Declined',:]\n",
    "state_a= pd.DataFrame(state_a.STATE.value_counts()).reset_index()\n",
    "state_d= pd.DataFrame(state_d.STATE.value_counts()).reset_index()\n",
    "state= pd.merge(state_a, state_d, on= 'index', how= 'left')\n",
    "state.columns= ['State', 'Approved', 'Declined']\n",
    "\n",
    "# Keep the 10 most important states\n",
    "state= state.drop(state.index[[10,11,12,13]])\n"
   ]
  },
  {
   "cell_type": "code",
   "execution_count": 39,
   "metadata": {
    "collapsed": false
   },
   "outputs": [
    {
     "data": {
      "image/png": "[encoded data removed]",
      "text/plain": [
       "<matplotlib.figure.Figure at 0x1c785fa8da0>"
      ]
     },
     "metadata": {},
     "output_type": "display_data"
    }
   ],
   "source": [
    "#Plot State Vs Application Status\n",
    "\n",
    "import numpy as np\n",
    "import matplotlib.pyplot as plt\n",
    "\n",
    " \n",
    "# data to plot\n",
    "n_groups = 10\n",
    "Approved = state['Approved']\n",
    "Declined = state['Declined']\n",
    " \n",
    "# create plot\n",
    "fig, ax = plt.subplots(figsize=(14, 6))\n",
    "index = np.arange(n_groups)\n",
    "bar_width = 0.35\n",
    "opacity = 0.8\n",
    " \n",
    "rects1 = plt.bar(index, Approved, bar_width,\n",
    "                 alpha=opacity,\n",
    "                 color='b',\n",
    "                 label='Approved')\n",
    " \n",
    "rects2 = plt.bar(index + bar_width, Declined, bar_width,\n",
    "                 alpha=opacity,\n",
    "                 color='g',\n",
    "                 label='Declined')\n",
    " \n",
    "plt.xlabel('States')\n",
    "plt.ylabel('Frequency count')\n",
    "plt.title('Approved/Denied by state')\n",
    "plt.xticks(index + bar_width, (state['State']))\n",
    "plt.legend()\n",
    " \n",
    "plt.tight_layout()\n",
    "plt.show()"
   ]
  },
  {
   "cell_type": "code",
   "execution_count": 40,
   "metadata": {
    "collapsed": true
   },
   "outputs": [],
   "source": [
    "# TN, MP and WB has the highest approval rate, where as Telengana and AP has the lowest approval rate"
   ]
  },
  {
   "cell_type": "code",
   "execution_count": 41,
   "metadata": {
    "collapsed": true
   },
   "outputs": [],
   "source": [
    "#Similar plots can be developed for all the other features to feed into the customers dashboard"
   ]
  },
  {
   "cell_type": "code",
   "execution_count": null,
   "metadata": {
    "collapsed": true
   },
   "outputs": [],
   "source": []
  }
 ],
 "metadata": {
  "kernelspec": {
   "display_name": "Python 3",
   "language": "python",
   "name": "python3"
  },
  "language_info": {
   "codemirror_mode": {
    "name": "ipython",
    "version": 3
   },
   "file_extension": ".py",
   "mimetype": "text/x-python",
   "name": "python",
   "nbconvert_exporter": "python",
   "pygments_lexer": "ipython3",
   "version": "3.6.0"
  }
 },
 "nbformat": 4,
 "nbformat_minor": 2
}
